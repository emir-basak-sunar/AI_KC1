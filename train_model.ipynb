{
 "cells": [
  {
   "cell_type": "code",
   "execution_count": 1,
   "id": "5df2a4ff",
   "metadata": {},
   "outputs": [
    {
     "name": "stdout",
     "output_type": "stream",
     "text": [
      "              precision    recall  f1-score   support\n",
      "\n",
      "           0       0.88      0.97      0.92       356\n",
      "           1       0.61      0.26      0.36        66\n",
      "\n",
      "    accuracy                           0.86       422\n",
      "   macro avg       0.74      0.61      0.64       422\n",
      "weighted avg       0.83      0.86      0.83       422\n",
      "\n"
     ]
    },
    {
     "data": {
      "text/plain": [
       "['trained_defect_model.pkl']"
      ]
     },
     "execution_count": 1,
     "metadata": {},
     "output_type": "execute_result"
    }
   ],
   "source": [
    "# train_model.py\n",
    "\n",
    "import pandas as pd\n",
    "from sklearn.ensemble import RandomForestClassifier\n",
    "from sklearn.model_selection import train_test_split\n",
    "from sklearn.metrics import classification_report\n",
    "import joblib\n",
    "\n",
    "# Dataseti yükle\n",
    "df = pd.read_csv(\"kc1.csv\")\n",
    "\n",
    "# Boşluk ve eksik verileri temizle\n",
    "df.dropna(inplace=True)\n",
    "\n",
    "# Hedef değişkeni binary yap\n",
    "df['defects'] = df['defects'].apply(lambda x: 1 if x > 0 else 0)\n",
    "\n",
    "# Özellikler ve hedef\n",
    "X = df.drop(columns=['defects'])\n",
    "y = df['defects']\n",
    "\n",
    "# Eğitim/test ayırımı\n",
    "X_train, X_test, y_train, y_test = train_test_split(X, y, test_size=0.2, random_state=42)\n",
    "\n",
    "# Modeli eğit\n",
    "model = RandomForestClassifier(n_estimators=100, random_state=42)\n",
    "model.fit(X_train, y_train)\n",
    "\n",
    "# Test sonucu\n",
    "y_pred = model.predict(X_test)\n",
    "print(classification_report(y_test, y_pred))\n",
    "\n",
    "# Modeli kaydet\n",
    "joblib.dump(model, 'trained_defect_model.pkl')\n"
   ]
  },
  {
   "cell_type": "code",
   "execution_count": 2,
   "id": "de8a8c90",
   "metadata": {},
   "outputs": [
    {
     "name": "stdout",
     "output_type": "stream",
     "text": [
      "<class 'pandas.core.frame.DataFrame'>\n",
      "RangeIndex: 2109 entries, 0 to 2108\n",
      "Data columns (total 22 columns):\n",
      " #   Column             Non-Null Count  Dtype  \n",
      "---  ------             --------------  -----  \n",
      " 0   loc                2109 non-null   float64\n",
      " 1   v(g)               2109 non-null   float64\n",
      " 2   ev(g)              2109 non-null   float64\n",
      " 3   iv(g)              2109 non-null   float64\n",
      " 4   n                  2109 non-null   float64\n",
      " 5   v                  2109 non-null   float64\n",
      " 6   l                  2109 non-null   float64\n",
      " 7   d                  2109 non-null   float64\n",
      " 8   i                  2109 non-null   float64\n",
      " 9   e                  2109 non-null   float64\n",
      " 10  b                  2109 non-null   float64\n",
      " 11  t                  2109 non-null   float64\n",
      " 12  lOCode             2109 non-null   int64  \n",
      " 13  lOComment          2109 non-null   int64  \n",
      " 14  lOBlank            2109 non-null   int64  \n",
      " 15  locCodeAndComment  2109 non-null   int64  \n",
      " 16  uniq_Op            2109 non-null   float64\n",
      " 17  uniq_Opnd          2109 non-null   float64\n",
      " 18  total_Op           2109 non-null   float64\n",
      " 19  total_Opnd         2109 non-null   float64\n",
      " 20  branchCount        2109 non-null   float64\n",
      " 21  defects            2109 non-null   int64  \n",
      "dtypes: float64(17), int64(5)\n",
      "memory usage: 362.6 KB\n"
     ]
    }
   ],
   "source": [
    "df.info()\n"
   ]
  }
 ],
 "metadata": {
  "kernelspec": {
   "display_name": "tf-env",
   "language": "python",
   "name": "python3"
  },
  "language_info": {
   "codemirror_mode": {
    "name": "ipython",
    "version": 3
   },
   "file_extension": ".py",
   "mimetype": "text/x-python",
   "name": "python",
   "nbconvert_exporter": "python",
   "pygments_lexer": "ipython3",
   "version": "3.10.11"
  }
 },
 "nbformat": 4,
 "nbformat_minor": 5
}
